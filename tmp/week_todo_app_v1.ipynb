{
 "cells": [
  {
   "cell_type": "code",
   "execution_count": 5,
   "metadata": {},
   "outputs": [
    {
     "name": "stdout",
     "output_type": "stream",
     "text": [
      "Gym from 10 to 11 am\n"
     ]
    }
   ],
   "source": [
    "###\n",
    "# Design a weekly to do list app for Sunday, Monday, ..., Friday, and Saturday \n",
    "# Each Day will have a to-do list, new event will be added to the to-do list, completed events will be moved to completed list\n",
    "# To be added? : each day has a key indicating 'time'? Each value should itself be a disctionary?  \n",
    "###\n",
    "\n",
    "# Each Day has two lists: to-do and finished \n",
    "Sunday_Events = {\n",
    "    \"ToDoList\": [\"Gym from 10 to 11 am\", \"Walk Dog from 6 to 7 pm\"],\n",
    "    \"DoneList\": []\n",
    "}\n",
    "Monday_Events = {\n",
    "    \"ToDoList\": [],\n",
    "    \"DoneList\": []\n",
    "}\n",
    "Tuesday_Events = {\n",
    "    \"ToDoList\": [],\n",
    "    \"DoneList\": []\n",
    "}\n",
    "Wednesday_Events = {\n",
    "    \"ToDoList\": [],\n",
    "    \"DoneList\": []\n",
    "}\n",
    "Thursday_Events = {\n",
    "    \"ToDoList\": [],\n",
    "    \"DoneList\": []\n",
    "}\n",
    "Friday_Events = {\n",
    "    \"ToDoList\": [],\n",
    "    \"DoneList\": []\n",
    "}\n",
    "Saturday_Events = {\n",
    "    \"ToDoList\": [],\n",
    "    \"DoneList\": []\n",
    "}\n",
    "\n",
    "print(Sunday_Events[\"ToDoList\"][0])"
   ]
  }
 ],
 "metadata": {
  "interpreter": {
   "hash": "b1f8124671df27ac4236746f59209264d147cd4ab1a5f2833c54c3a275061472"
  },
  "kernelspec": {
   "display_name": "Python 3.9.7 ('base')",
   "language": "python",
   "name": "python3"
  },
  "language_info": {
   "codemirror_mode": {
    "name": "ipython",
    "version": 3
   },
   "file_extension": ".py",
   "mimetype": "text/x-python",
   "name": "python",
   "nbconvert_exporter": "python",
   "pygments_lexer": "ipython3",
   "version": "3.9.7"
  },
  "orig_nbformat": 4
 },
 "nbformat": 4,
 "nbformat_minor": 2
}
