{
 "cells": [
  {
   "cell_type": "code",
   "execution_count": 16,
   "metadata": {},
   "outputs": [
    {
     "name": "stdout",
     "output_type": "stream",
     "text": [
      "{'Sun': [{'name': 'Gym', 'from': '10 am', 'to': '11 am', 'done': False}, {'name': 'Walk Dog', 'from': '6 pm', 'to': '7 pm', 'done': False}], 'Mon': [], 'Tue': [], 'Wed': [], 'Thu': [], 'Fri': [], 'Sat': []}\n"
     ]
    }
   ],
   "source": [
    "###\n",
    "# Design a weekly to do list app for Sunday, Monday, ..., Friday, and Saturday \n",
    "# Each Day will have a to-do list, new event will be added to the to-do list, completed events will be moved to completed list\n",
    "# To be added? : each day has a key indicating 'time'? Each value should itself be a disctionary?  \n",
    "###\n",
    "\n",
    "# So now your app only deals with a single week of events, which is not\n",
    "# what you showed in your project spec. How about this data structure:\n",
    "\n",
    "# Todo lists are lists of items\n",
    "# each item has a name, a start time, an end time and a Done/NotDone state\n",
    "# Let's model this with a dictionary:\n",
    "ev_a = {\"name\":\"Gym\", \"from\":\"10 am\", \"to\":\"11 am\", \"done\":False}\n",
    "ev_b = {\"name\":\"Walk Dog\", \"from\":\"6 pm\", \"to\":\"7 pm\", \"done\":False}\n",
    "\n",
    "# Note: I don't understand what there's a Done list so instead I'm going to use \n",
    "# a True/False flag instead. When an item is added, this is False, when it's been done\n",
    "# we flip it to True\n",
    "\n",
    "# A todo list is a list of events\n",
    "todo_list = [ev_a, ev_b]\n",
    "\n",
    "# There's a todo list for each day of the week, another dictionary with day as key\n",
    "# if a day doesn't have anything, the todo list is empty\n",
    "# This is your master dict that hold all your data\n",
    "todo_this_week = {\"Sun\":todo_list,\n",
    "                  \"Mon\": [],\n",
    "                  \"Tue\": [],                  \n",
    "                  \"Wed\": [],\n",
    "                  \"Thu\": [],\n",
    "                  \"Fri\": [],\n",
    "                  \"Sat\": []\n",
    "                }\n",
    "\n",
    "print(todo_this_week)"
   ]
  },
  {
   "cell_type": "code",
   "execution_count": 2,
   "metadata": {},
   "outputs": [
    {
     "name": "stdout",
     "output_type": "stream",
     "text": [
      "{'name': 'buy stuff', 'from': '2 pm', 'to': '3 pm', 'done': False}\n",
      "Wed []\n",
      "Wed [{'name': 'buy stuff', 'from': '2 pm', 'to': '3 pm', 'done': False}]\n",
      "done\n"
     ]
    }
   ],
   "source": [
    "# Some examples how working with this type of datastructure would work\n",
    "# Each of these should be a function!\n",
    "\n",
    "while True:\n",
    "    # Select a day\n",
    "    day =  input(\"Add event to what day (Sun, Mon, etc.)?\")\n",
    "\n",
    "    # Make a new event:\n",
    "    name = input(\"Name of event?\")\n",
    "    start = input(\"Start of event? (e.g. 11 am)\")\n",
    "    end = input(\"End of event? (e.g. 2 pm)\")\n",
    "\n",
    "    ev = {\"name\":name, \"from\":start, \"to\":end, \"done\":False}\n",
    "    print(ev)\n",
    "\n",
    "    # Add even to todo list of that day\n",
    "    todo = todo_this_week[day]\n",
    "    print(day, todo) # current list of items\n",
    "\n",
    "    todo.append(ev)\n",
    "    print(day, todo) # new list of item\n",
    "\n",
    "    more = input(\"add more events? (y/n)\")\n",
    "    if more == \"n\": \n",
    "        print(\"done\")\n",
    "        break\n",
    "\n"
   ]
  },
  {
   "cell_type": "code",
   "execution_count": 20,
   "metadata": {},
   "outputs": [
    {
     "name": "stdout",
     "output_type": "stream",
     "text": [
      "\n",
      " Sun\n",
      "     {'name': 'Gym', 'from': '10 am', 'to': '11 am', 'done': False}\n",
      "     {'name': 'Walk Dog', 'from': '6 pm', 'to': '7 pm', 'done': False}\n",
      "\n",
      " Mon\n",
      "    no todo items for this day\n",
      "\n",
      " Tue\n",
      "     {'name': 'play tennis', 'from': '11 am', 'to': '2pm', 'done': False}\n",
      "\n",
      " Wed\n",
      "    no todo items for this day\n",
      "\n",
      " Thu\n",
      "    no todo items for this day\n",
      "\n",
      " Fri\n",
      "    no todo items for this day\n",
      "\n",
      " Sat\n",
      "    no todo items for this day\n"
     ]
    }
   ],
   "source": [
    "# show lists for entire week\n",
    "def show_all_items(master_dict):\n",
    "    for day in master_dict:\n",
    "        print(\"\\n\", day)\n",
    "\n",
    "        if  master_dict[day] == []:\n",
    "            print(\"    no todo items for this day\")\n",
    "        else:\n",
    "            for item in master_dict[day]:\n",
    "                print(\"    \", item)\n",
    "\n",
    "show_all_items(todo_this_week)\n",
    "    "
   ]
  },
  {
   "cell_type": "code",
   "execution_count": 18,
   "metadata": {},
   "outputs": [
    {
     "name": "stdout",
     "output_type": "stream",
     "text": [
      "\n",
      " Sun\n",
      "     {'name': 'Gym', 'from': '10 am', 'to': '11 am', 'done': False}\n",
      "     {'name': 'Walk Dog', 'from': '6 pm', 'to': '7 pm', 'done': False}\n",
      "\n",
      " Mon\n",
      "    no todo items for this day\n",
      "\n",
      " Tue\n",
      "     {'name': 'play tennis', 'from': '11 am', 'to': '2pm', 'done': False}\n",
      "\n",
      " Wed\n",
      "    no todo items for this day\n",
      "\n",
      " Thu\n",
      "    no todo items for this day\n",
      "\n",
      " Fri\n",
      "    no todo items for this day\n",
      "\n",
      " Sat\n",
      "    no todo items for this day\n"
     ]
    }
   ],
   "source": [
    "# Next, write a function that adds an item to a specific day in the master dict (with it data given as arguments)\n",
    "\n",
    "def add_item(master_dict, day, name, start, end):\n",
    "    event = {\"name\":name, \"from\":start, \"to\":end, \"done\":False}\n",
    "    todo_list = master_dict[day]\n",
    "    todo_list.append(event)\n",
    "\n",
    "\n",
    "# test case\n",
    "add_item(todo_this_week, \"Tue\", \"play tennis\", \"11 am\", \"2pm\")\n",
    "show_all_items(todo_this_week)"
   ]
  },
  {
   "cell_type": "code",
   "execution_count": null,
   "metadata": {},
   "outputs": [],
   "source": [
    "# write a function that deletes a specific item (Gym) from a specific day (Sun) from the master dict\n",
    "def delete_item(master_dict, day, name):\n"
   ]
  },
  {
   "cell_type": "code",
   "execution_count": null,
   "metadata": {},
   "outputs": [],
   "source": [
    "# Update the add_item function so it checks if would be a time conflict, i.e.\n",
    "# if you would double-book yourself. For then check convert the am/pm times to\n",
    "# 24 hr times compare them to the from and to values of all already existing items.\n",
    "# If there's conflict, do not add but print out an error"
   ]
  },
  {
   "cell_type": "code",
   "execution_count": null,
   "metadata": {},
   "outputs": [],
   "source": [
    "# write a function that sets a item at a certain date to done as True\n",
    "def set_item_to_done(master_dict, day, name):"
   ]
  }
 ],
 "metadata": {
  "kernelspec": {
   "display_name": "Python 3.9.7 ('base')",
   "language": "python",
   "name": "python3"
  },
  "language_info": {
   "codemirror_mode": {
    "name": "ipython",
    "version": 3
   },
   "file_extension": ".py",
   "mimetype": "text/x-python",
   "name": "python",
   "nbconvert_exporter": "python",
   "pygments_lexer": "ipython3",
   "version": "3.9.7"
  },
  "orig_nbformat": 4,
  "vscode": {
   "interpreter": {
    "hash": "1813b1874f6f84418af257d52e08e51b77c1fa4a78b2eeb48d9f803ad6bb1049"
   }
  }
 },
 "nbformat": 4,
 "nbformat_minor": 2
}
